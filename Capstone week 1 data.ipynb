{
    "nbformat_minor": 1, 
    "cells": [
        {
            "source": "## Peer-graded Assignment: Capstone Project - The Battle of Neighbourhoods (Week 1)", 
            "cell_type": "markdown", 
            "metadata": {
                "collapsed": true
            }
        }, 
        {
            "source": "### Description of the data and how it will be used to solve the problem", 
            "cell_type": "markdown", 
            "metadata": {}
        }, 
        {
            "source": "The idea of this data analysis is to help a company planning to open a new Indian restaurant chain in Toronto to choose the right location by providing data about the income and population of each neighbourhood as well as the competitors already present on the same regions.", 
            "cell_type": "markdown", 
            "metadata": {}
        }, 
        {
            "source": "#### Data", 
            "cell_type": "markdown", 
            "metadata": {}
        }, 
        {
            "source": "To provide the stakeholders the necessary information I'll be combining Toronto's 2016 Census that contains Population, Average income per Neighbourhood with Toronto\u2019s Neighbourhoods geospatial data from previous assignment and Foursquare API to collect Indian restaurants in  the same neighbourhoods", 
            "cell_type": "markdown", 
            "metadata": {}
        }, 
        {
            "source": "Toronto's Census data is publicly available at this website: https://www.toronto.ca/city-government/data-research-maps/open-data/open-data-catalogue/#8c732154-5012-9afe-d0cd-ba3ffc813d5a ", 
            "cell_type": "markdown", 
            "metadata": {}
        }, 
        {
            "source": "This data would be cleaned to see Population, Population change, Income $70,000 and over and number of Indians in a particular neighbourhood. Combined with Foursquare API data on Indian restaurants, neighbourhoods with no Indian restaurant would be identified and further explored by abovementioned census parameters to identify the location for opening a new Indian restaurant.", 
            "cell_type": "markdown", 
            "metadata": {}
        }, 
        {
            "execution_count": null, 
            "cell_type": "code", 
            "metadata": {}, 
            "outputs": [], 
            "source": ""
        }
    ], 
    "metadata": {
        "kernelspec": {
            "display_name": "Python 3.6", 
            "name": "python3", 
            "language": "python"
        }, 
        "language_info": {
            "mimetype": "text/x-python", 
            "nbconvert_exporter": "python", 
            "version": "3.6.8", 
            "name": "python", 
            "file_extension": ".py", 
            "pygments_lexer": "ipython3", 
            "codemirror_mode": {
                "version": 3, 
                "name": "ipython"
            }
        }
    }, 
    "nbformat": 4
}