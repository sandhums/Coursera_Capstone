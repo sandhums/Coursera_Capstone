{
    "nbformat_minor": 1, 
    "cells": [
        {
            "source": "## Peer-graded Assignment: Capstone Project - The Battle of Neighbourhoods (Week 1)", 
            "cell_type": "markdown", 
            "metadata": {
                "collapsed": true
            }
        }, 
        {
            "source": "### Description of the problem and a discussion of the background", 
            "cell_type": "markdown", 
            "metadata": {}
        }, 
        {
            "source": "According to the 2016 Census, Indian immigrants (668,565) were the largest foreign-born group in Canada. In 2011, the immigrant population comprised 20.6% of Canada\u2019s population, so one in five people were immigrants.\nIn Canada, the number of immigrants from India grew 74% from 314,690 in 2001 to 547,890 in 2011, making India the top immigration source country.\nOntario was the top destination for immigrants from India concentrating 55% of them in 2001 and 57% in 2011.\n(https://canadaimmigrants.com/indian-immigrants-to-canada/)\nIndian cuisine is steadily gaining in popularity in North America and has been pronounced, time and again, the next \"ethnic food trend.\" (https://www.washingtonpost.com/news/wonk/wp/2015/03/04/why-delicious-indian-food-is-surprisingly-unpopular-in-the-u-s/?utm_term=.889ffbde37eb)\nAlthough Indian food makes up less than two percent of the ethnic food market in the United States, it has had the fastest growth rate. (https://www.india.com/food-2/indian-food-growing-in-popularity-among-americans-471121/) \nSeeing the steady growth in Indian immigrants in Canada and Indian cuisines growing popularity worldwide, Company \u2018Tikka Shack\u2019 wants to start a chain of Indian restaurants in Canada.\nThe company wants to launch their restaurants in Toronto first, as it has the largest number of Indian immigrants. However there are already more than 500 Indian restaurants existing in Toronto area. (https://www.zomato.com/toronto/restaurants/indian) \nI have been chosen to analyse and suggest best neighbourhoods in Toronto to set up these Indian restaurants. I will be focusing on neighbourhoods with high number of Indians, high population growth and earning capacity coupled with relative scarcity of Indian restaurants.\n\n", 
            "cell_type": "markdown", 
            "metadata": {}
        }, 
        {
            "execution_count": null, 
            "cell_type": "code", 
            "metadata": {}, 
            "outputs": [], 
            "source": ""
        }
    ], 
    "metadata": {
        "kernelspec": {
            "display_name": "Python 3.6", 
            "name": "python3", 
            "language": "python"
        }, 
        "language_info": {
            "mimetype": "text/x-python", 
            "nbconvert_exporter": "python", 
            "version": "3.6.8", 
            "name": "python", 
            "file_extension": ".py", 
            "pygments_lexer": "ipython3", 
            "codemirror_mode": {
                "version": 3, 
                "name": "ipython"
            }
        }
    }, 
    "nbformat": 4
}